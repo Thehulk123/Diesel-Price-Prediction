{
  "nbformat": 4,
  "nbformat_minor": 0,
  "metadata": {
    "colab": {
      "name": "MultiLinearReg.ipynb",
      "provenance": [],
      "toc_visible": true
    },
    "kernelspec": {
      "name": "python3",
      "display_name": "Python 3"
    }
  },
  "cells": [
    {
      "cell_type": "markdown",
      "metadata": {
        "id": "l_LulNCC8z96"
      },
      "source": [
        "# **Multiple Linear Regression**"
      ]
    },
    {
      "cell_type": "markdown",
      "metadata": {
        "id": "xpXdowrE9DxW"
      },
      "source": [
        "## Importing the libraries"
      ]
    },
    {
      "cell_type": "code",
      "metadata": {
        "id": "xD8d4PKh-j4j"
      },
      "source": [
        "#importing numpy library for numerical calculation\n",
        "import numpy as np\n",
        "\n",
        "#importing pandas library for accessing the dataset and performing manipulations\n",
        "import pandas as pd\n",
        "\n",
        "#importing matplotlib for plotting functions\n",
        "import matplotlib.pyplot as plt"
      ],
      "execution_count": null,
      "outputs": []
    },
    {
      "cell_type": "markdown",
      "metadata": {
        "id": "6JhpWJi59J1p"
      },
      "source": [
        "## Importing the dataset"
      ]
    },
    {
      "cell_type": "code",
      "metadata": {
        "colab": {
          "base_uri": "https://localhost:8080/",
          "height": 206
        },
        "id": "jgQR2TBlAJVX",
        "outputId": "1742ea4f-42cd-494a-8222-583656698b48"
      },
      "source": [
        "#importing the dataset using pandas library\n",
        "dataset = pd.read_csv('Diesel_Price_Train.csv')\n",
        "\n",
        "#printing the initial values of our dataset\n",
        "dataset.head()"
      ],
      "execution_count": null,
      "outputs": [
        {
          "output_type": "execute_result",
          "data": {
            "text/html": [
              "<div>\n",
              "<style scoped>\n",
              "    .dataframe tbody tr th:only-of-type {\n",
              "        vertical-align: middle;\n",
              "    }\n",
              "\n",
              "    .dataframe tbody tr th {\n",
              "        vertical-align: top;\n",
              "    }\n",
              "\n",
              "    .dataframe thead th {\n",
              "        text-align: right;\n",
              "    }\n",
              "</style>\n",
              "<table border=\"1\" class=\"dataframe\">\n",
              "  <thead>\n",
              "    <tr style=\"text-align: right;\">\n",
              "      <th></th>\n",
              "      <th>Date</th>\n",
              "      <th>Delhi Diesel Price</th>\n",
              "      <th>Foreign Exchange Rate</th>\n",
              "      <th>Crude Oil Price</th>\n",
              "    </tr>\n",
              "  </thead>\n",
              "  <tbody>\n",
              "    <tr>\n",
              "      <th>0</th>\n",
              "      <td>01-01-2003</td>\n",
              "      <td>19.47</td>\n",
              "      <td>48.01</td>\n",
              "      <td>29.59</td>\n",
              "    </tr>\n",
              "    <tr>\n",
              "      <th>1</th>\n",
              "      <td>02-01-2003</td>\n",
              "      <td>19.47</td>\n",
              "      <td>48.05</td>\n",
              "      <td>29.59</td>\n",
              "    </tr>\n",
              "    <tr>\n",
              "      <th>2</th>\n",
              "      <td>03-01-2003</td>\n",
              "      <td>19.07</td>\n",
              "      <td>48.00</td>\n",
              "      <td>29.59</td>\n",
              "    </tr>\n",
              "    <tr>\n",
              "      <th>3</th>\n",
              "      <td>04-01-2003</td>\n",
              "      <td>19.07</td>\n",
              "      <td>48.00</td>\n",
              "      <td>29.59</td>\n",
              "    </tr>\n",
              "    <tr>\n",
              "      <th>4</th>\n",
              "      <td>05-01-2003</td>\n",
              "      <td>19.07</td>\n",
              "      <td>48.00</td>\n",
              "      <td>29.59</td>\n",
              "    </tr>\n",
              "  </tbody>\n",
              "</table>\n",
              "</div>"
            ],
            "text/plain": [
              "         Date  Delhi Diesel Price  Foreign Exchange Rate  Crude Oil Price\n",
              "0  01-01-2003               19.47                  48.01            29.59\n",
              "1  02-01-2003               19.47                  48.05            29.59\n",
              "2  03-01-2003               19.07                  48.00            29.59\n",
              "3  04-01-2003               19.07                  48.00            29.59\n",
              "4  05-01-2003               19.07                  48.00            29.59"
            ]
          },
          "metadata": {
            "tags": []
          },
          "execution_count": 2
        }
      ]
    },
    {
      "cell_type": "code",
      "metadata": {
        "colab": {
          "base_uri": "https://localhost:8080/",
          "height": 424
        },
        "id": "Mn7b0y5Qq16y",
        "outputId": "9818c6c6-fe2b-4101-8470-85191a615f30"
      },
      "source": [
        "#printing the whole dataset consisting of approx 5300 records\n",
        "dataset"
      ],
      "execution_count": null,
      "outputs": [
        {
          "output_type": "execute_result",
          "data": {
            "text/html": [
              "<div>\n",
              "<style scoped>\n",
              "    .dataframe tbody tr th:only-of-type {\n",
              "        vertical-align: middle;\n",
              "    }\n",
              "\n",
              "    .dataframe tbody tr th {\n",
              "        vertical-align: top;\n",
              "    }\n",
              "\n",
              "    .dataframe thead th {\n",
              "        text-align: right;\n",
              "    }\n",
              "</style>\n",
              "<table border=\"1\" class=\"dataframe\">\n",
              "  <thead>\n",
              "    <tr style=\"text-align: right;\">\n",
              "      <th></th>\n",
              "      <th>Date</th>\n",
              "      <th>Delhi Diesel Price</th>\n",
              "      <th>Foreign Exchange Rate</th>\n",
              "      <th>Crude Oil Price</th>\n",
              "    </tr>\n",
              "  </thead>\n",
              "  <tbody>\n",
              "    <tr>\n",
              "      <th>0</th>\n",
              "      <td>01-01-2003</td>\n",
              "      <td>19.47</td>\n",
              "      <td>48.01</td>\n",
              "      <td>29.59</td>\n",
              "    </tr>\n",
              "    <tr>\n",
              "      <th>1</th>\n",
              "      <td>02-01-2003</td>\n",
              "      <td>19.47</td>\n",
              "      <td>48.05</td>\n",
              "      <td>29.59</td>\n",
              "    </tr>\n",
              "    <tr>\n",
              "      <th>2</th>\n",
              "      <td>03-01-2003</td>\n",
              "      <td>19.07</td>\n",
              "      <td>48.00</td>\n",
              "      <td>29.59</td>\n",
              "    </tr>\n",
              "    <tr>\n",
              "      <th>3</th>\n",
              "      <td>04-01-2003</td>\n",
              "      <td>19.07</td>\n",
              "      <td>48.00</td>\n",
              "      <td>29.59</td>\n",
              "    </tr>\n",
              "    <tr>\n",
              "      <th>4</th>\n",
              "      <td>05-01-2003</td>\n",
              "      <td>19.07</td>\n",
              "      <td>48.00</td>\n",
              "      <td>29.59</td>\n",
              "    </tr>\n",
              "    <tr>\n",
              "      <th>...</th>\n",
              "      <td>...</td>\n",
              "      <td>...</td>\n",
              "      <td>...</td>\n",
              "      <td>...</td>\n",
              "    </tr>\n",
              "    <tr>\n",
              "      <th>5294</th>\n",
              "      <td>30-06-2017</td>\n",
              "      <td>53.46</td>\n",
              "      <td>64.73</td>\n",
              "      <td>46.56</td>\n",
              "    </tr>\n",
              "    <tr>\n",
              "      <th>5295</th>\n",
              "      <td>01-07-2017</td>\n",
              "      <td>53.33</td>\n",
              "      <td>64.73</td>\n",
              "      <td>47.86</td>\n",
              "    </tr>\n",
              "    <tr>\n",
              "      <th>5296</th>\n",
              "      <td>02-07-2017</td>\n",
              "      <td>53.36</td>\n",
              "      <td>64.73</td>\n",
              "      <td>47.86</td>\n",
              "    </tr>\n",
              "    <tr>\n",
              "      <th>5297</th>\n",
              "      <td>03-07-2017</td>\n",
              "      <td>53.47</td>\n",
              "      <td>64.66</td>\n",
              "      <td>47.86</td>\n",
              "    </tr>\n",
              "    <tr>\n",
              "      <th>5298</th>\n",
              "      <td>04-07-2017</td>\n",
              "      <td>53.44</td>\n",
              "      <td>64.81</td>\n",
              "      <td>47.86</td>\n",
              "    </tr>\n",
              "  </tbody>\n",
              "</table>\n",
              "<p>5299 rows × 4 columns</p>\n",
              "</div>"
            ],
            "text/plain": [
              "            Date  Delhi Diesel Price  Foreign Exchange Rate  Crude Oil Price\n",
              "0     01-01-2003               19.47                  48.01            29.59\n",
              "1     02-01-2003               19.47                  48.05            29.59\n",
              "2     03-01-2003               19.07                  48.00            29.59\n",
              "3     04-01-2003               19.07                  48.00            29.59\n",
              "4     05-01-2003               19.07                  48.00            29.59\n",
              "...          ...                 ...                    ...              ...\n",
              "5294  30-06-2017               53.46                  64.73            46.56\n",
              "5295  01-07-2017               53.33                  64.73            47.86\n",
              "5296  02-07-2017               53.36                  64.73            47.86\n",
              "5297  03-07-2017               53.47                  64.66            47.86\n",
              "5298  04-07-2017               53.44                  64.81            47.86\n",
              "\n",
              "[5299 rows x 4 columns]"
            ]
          },
          "metadata": {
            "tags": []
          },
          "execution_count": 3
        }
      ]
    },
    {
      "cell_type": "code",
      "metadata": {
        "colab": {
          "base_uri": "https://localhost:8080/"
        },
        "id": "TRq8dioa14AW",
        "outputId": "7216f16f-080e-4805-8dfd-0670622ce3ee"
      },
      "source": [
        "# Printing the information of the dataset\n",
        "dataset.info()"
      ],
      "execution_count": null,
      "outputs": [
        {
          "output_type": "stream",
          "text": [
            "<class 'pandas.core.frame.DataFrame'>\n",
            "RangeIndex: 5299 entries, 0 to 5298\n",
            "Data columns (total 4 columns):\n",
            " #   Column                 Non-Null Count  Dtype  \n",
            "---  ------                 --------------  -----  \n",
            " 0   Date                   5299 non-null   object \n",
            " 1   Delhi Diesel Price     5299 non-null   float64\n",
            " 2   Foreign Exchange Rate  5299 non-null   float64\n",
            " 3   Crude Oil Price        5299 non-null   float64\n",
            "dtypes: float64(3), object(1)\n",
            "memory usage: 165.7+ KB\n"
          ],
          "name": "stdout"
        }
      ]
    },
    {
      "cell_type": "code",
      "metadata": {
        "colab": {
          "base_uri": "https://localhost:8080/",
          "height": 300
        },
        "id": "YC6xV87DDS_6",
        "outputId": "76385a2b-c38f-48e2-c5e7-ceadb8659602"
      },
      "source": [
        "# describe the dataset\n",
        "dataset.describe()"
      ],
      "execution_count": null,
      "outputs": [
        {
          "output_type": "execute_result",
          "data": {
            "text/html": [
              "<div>\n",
              "<style scoped>\n",
              "    .dataframe tbody tr th:only-of-type {\n",
              "        vertical-align: middle;\n",
              "    }\n",
              "\n",
              "    .dataframe tbody tr th {\n",
              "        vertical-align: top;\n",
              "    }\n",
              "\n",
              "    .dataframe thead th {\n",
              "        text-align: right;\n",
              "    }\n",
              "</style>\n",
              "<table border=\"1\" class=\"dataframe\">\n",
              "  <thead>\n",
              "    <tr style=\"text-align: right;\">\n",
              "      <th></th>\n",
              "      <th>Delhi Diesel Price</th>\n",
              "      <th>Foreign Exchange Rate</th>\n",
              "      <th>Crude Oil Price</th>\n",
              "    </tr>\n",
              "  </thead>\n",
              "  <tbody>\n",
              "    <tr>\n",
              "      <th>count</th>\n",
              "      <td>5299.000000</td>\n",
              "      <td>5299.000000</td>\n",
              "      <td>5299.000000</td>\n",
              "    </tr>\n",
              "    <tr>\n",
              "      <th>mean</th>\n",
              "      <td>38.082433</td>\n",
              "      <td>51.257207</td>\n",
              "      <td>70.719891</td>\n",
              "    </tr>\n",
              "    <tr>\n",
              "      <th>std</th>\n",
              "      <td>11.191295</td>\n",
              "      <td>8.732785</td>\n",
              "      <td>28.862465</td>\n",
              "    </tr>\n",
              "    <tr>\n",
              "      <th>min</th>\n",
              "      <td>19.070000</td>\n",
              "      <td>39.040000</td>\n",
              "      <td>24.210000</td>\n",
              "    </tr>\n",
              "    <tr>\n",
              "      <th>25%</th>\n",
              "      <td>30.450000</td>\n",
              "      <td>44.800000</td>\n",
              "      <td>46.590000</td>\n",
              "    </tr>\n",
              "    <tr>\n",
              "      <th>50%</th>\n",
              "      <td>37.750000</td>\n",
              "      <td>46.890000</td>\n",
              "      <td>66.900000</td>\n",
              "    </tr>\n",
              "    <tr>\n",
              "      <th>75%</th>\n",
              "      <td>48.010000</td>\n",
              "      <td>60.330000</td>\n",
              "      <td>101.570000</td>\n",
              "    </tr>\n",
              "    <tr>\n",
              "      <th>max</th>\n",
              "      <td>59.020000</td>\n",
              "      <td>68.810000</td>\n",
              "      <td>132.470000</td>\n",
              "    </tr>\n",
              "  </tbody>\n",
              "</table>\n",
              "</div>"
            ],
            "text/plain": [
              "       Delhi Diesel Price  Foreign Exchange Rate  Crude Oil Price\n",
              "count         5299.000000            5299.000000      5299.000000\n",
              "mean            38.082433              51.257207        70.719891\n",
              "std             11.191295               8.732785        28.862465\n",
              "min             19.070000              39.040000        24.210000\n",
              "25%             30.450000              44.800000        46.590000\n",
              "50%             37.750000              46.890000        66.900000\n",
              "75%             48.010000              60.330000       101.570000\n",
              "max             59.020000              68.810000       132.470000"
            ]
          },
          "metadata": {
            "tags": []
          },
          "execution_count": 5
        }
      ]
    },
    {
      "cell_type": "markdown",
      "metadata": {
        "id": "WiE8WJ2T4rm9"
      },
      "source": [
        "## Checking for Outliers using BoxPlot Method"
      ]
    },
    {
      "cell_type": "code",
      "metadata": {
        "colab": {
          "base_uri": "https://localhost:8080/",
          "height": 297
        },
        "id": "eieaySbf3bWF",
        "outputId": "d164c142-32a9-49d6-f7c0-b9c9a07ada0d"
      },
      "source": [
        "#importing the seaborn library\n",
        "import seaborn as sns\n",
        "\n",
        "#Plotting the boxplot for Crude Oil Price\n",
        "sns.boxplot(x = dataset['Crude Oil Price'])"
      ],
      "execution_count": null,
      "outputs": [
        {
          "output_type": "execute_result",
          "data": {
            "text/plain": [
              "<matplotlib.axes._subplots.AxesSubplot at 0x7f055a974790>"
            ]
          },
          "metadata": {
            "tags": []
          },
          "execution_count": 6
        },
        {
          "output_type": "display_data",
          "data": {
            "image/png": "[encoded data removed]",
            "text/plain": [
              "<Figure size 432x288 with 1 Axes>"
            ]
          },
          "metadata": {
            "tags": [],
            "needs_background": "light"
          }
        }
      ]
    },
    {
      "cell_type": "code",
      "metadata": {
        "colab": {
          "base_uri": "https://localhost:8080/",
          "height": 297
        },
        "id": "JAK9q8JY4bso",
        "outputId": "748bb7bd-6bd4-4c80-cd6b-830a9c8c626f"
      },
      "source": [
        "#Plotting the boxplot for Forex Rate\n",
        "sns.boxplot(x = dataset['Foreign Exchange Rate'])"
      ],
      "execution_count": null,
      "outputs": [
        {
          "output_type": "execute_result",
          "data": {
            "text/plain": [
              "<matplotlib.axes._subplots.AxesSubplot at 0x7f055a8cac10>"
            ]
          },
          "metadata": {
            "tags": []
          },
          "execution_count": 7
        },
        {
          "output_type": "display_data",
          "data": {
            "image/png": "[encoded data removed]",
            "text/plain": [
              "<Figure size 432x288 with 1 Axes>"
            ]
          },
          "metadata": {
            "tags": [],
            "needs_background": "light"
          }
        }
      ]
    },
    {
      "cell_type": "code",
      "metadata": {
        "colab": {
          "base_uri": "https://localhost:8080/",
          "height": 297
        },
        "id": "wwSbrZqQ4lXR",
        "outputId": "61ef9f93-82c1-40a6-b6b6-6d4f1a9f0d3e"
      },
      "source": [
        "#Plotting the boxplot for Delhi Diesel Price\n",
        "sns.boxplot(x = dataset['Delhi Diesel Price'])"
      ],
      "execution_count": null,
      "outputs": [
        {
          "output_type": "execute_result",
          "data": {
            "text/plain": [
              "<matplotlib.axes._subplots.AxesSubplot at 0x7f055a3f3e10>"
            ]
          },
          "metadata": {
            "tags": []
          },
          "execution_count": 8
        },
        {
          "output_type": "display_data",
          "data": {
            "image/png": "[encoded data removed]",
            "text/plain": [
              "<Figure size 432x288 with 1 Axes>"
            ]
          },
          "metadata": {
            "tags": [],
            "needs_background": "light"
          }
        }
      ]
    },
    {
      "cell_type": "markdown",
      "metadata": {
        "id": "zIstF6BnryNP"
      },
      "source": [
        "## Splitting the independent (X) and dependent variables (y)"
      ]
    },
    {
      "cell_type": "code",
      "metadata": {
        "id": "Iqrvd79ZCwRw"
      },
      "source": [
        "# X consists of independent variable (Forex Rate and Crude Oil Price)\n",
        "# y is the dependent variable (diesel price)\n",
        "X = dataset.iloc[:, 2: ].values\n",
        "y = dataset.iloc[:, dataset.columns == 'Delhi Diesel Price'].values\n"
      ],
      "execution_count": null,
      "outputs": []
    },
    {
      "cell_type": "code",
      "metadata": {
        "colab": {
          "base_uri": "https://localhost:8080/"
        },
        "id": "aiI3i18bsPSI",
        "outputId": "e92082fe-ec66-4502-d633-a5aeb3b994c9"
      },
      "source": [
        "#printing the independent variables (Forex Rate and Crude Oil Price)\n",
        "print(X)"
      ],
      "execution_count": null,
      "outputs": [
        {
          "output_type": "stream",
          "text": [
            "[[48.01 29.59]\n",
            " [48.05 29.59]\n",
            " [48.   29.59]\n",
            " ...\n",
            " [64.73 47.86]\n",
            " [64.66 47.86]\n",
            " [64.81 47.86]]\n"
          ],
          "name": "stdout"
        }
      ]
    },
    {
      "cell_type": "code",
      "metadata": {
        "colab": {
          "base_uri": "https://localhost:8080/"
        },
        "id": "kl0FRwsTsPjM",
        "outputId": "568b4813-bf1b-4b0a-9ff6-4bc4005cae84"
      },
      "source": [
        "#printing the dependent variable (diesel price)\n",
        "print(y)"
      ],
      "execution_count": null,
      "outputs": [
        {
          "output_type": "stream",
          "text": [
            "[[19.47]\n",
            " [19.47]\n",
            " [19.07]\n",
            " ...\n",
            " [53.36]\n",
            " [53.47]\n",
            " [53.44]]\n"
          ],
          "name": "stdout"
        }
      ]
    },
    {
      "cell_type": "markdown",
      "metadata": {
        "id": "AyhQaTwP9RzG"
      },
      "source": [
        "## Splitting the dataset into the Training set and Test set"
      ]
    },
    {
      "cell_type": "code",
      "metadata": {
        "id": "OMXXXXWcCvCM"
      },
      "source": [
        "#importing the sklearn libary for perfroming train test split\n",
        "from sklearn.model_selection import train_test_split\n",
        "\n",
        "#splitting the dataset into training set and testing set\n",
        "X_train, X_test, y_train, y_test = train_test_split(X, y, test_size = 0.2, random_state = 0)"
      ],
      "execution_count": null,
      "outputs": []
    },
    {
      "cell_type": "code",
      "metadata": {
        "colab": {
          "base_uri": "https://localhost:8080/"
        },
        "id": "nBtn1XxA59Oa",
        "outputId": "f20fcab2-01fd-4474-affc-6be366ad7a75"
      },
      "source": [
        "#Printing the dimensions of training and testing set\n",
        "print(X_train.shape)\n",
        "print(y_train.shape)\n",
        "print(X_test.shape)\n",
        "print(y_test.shape)"
      ],
      "execution_count": null,
      "outputs": [
        {
          "output_type": "stream",
          "text": [
            "(4239, 2)\n",
            "(4239, 1)\n",
            "(1060, 2)\n",
            "(1060, 1)\n"
          ],
          "name": "stdout"
        }
      ]
    },
    {
      "cell_type": "markdown",
      "metadata": {
        "id": "qlHVNpX3wJ01"
      },
      "source": [
        "## Plotting the correlation heatmap for the dataset"
      ]
    },
    {
      "cell_type": "code",
      "metadata": {
        "colab": {
          "base_uri": "https://localhost:8080/"
        },
        "id": "S6ilijLG9Q0s",
        "outputId": "fb221e24-407a-4d18-d397-c9240a19255f"
      },
      "source": [
        "#Finding the correlation between our dataset\n",
        "corr = dataset.corr()\n",
        "\n",
        "#Importing the seaborn library for plotting the correlation martix\n",
        "import seaborn as sns\n",
        "sns.heatmap(corr, annot = True)"
      ],
      "execution_count": null,
      "outputs": [
        {
          "output_type": "execute_result",
          "data": {
            "text/plain": [
              "<matplotlib.axes._subplots.AxesSubplot at 0x7f0558919790>"
            ]
          },
          "metadata": {
            "tags": []
          },
          "execution_count": 14
        },
        {
          "output_type": "display_data",
          "data": {
            "image/png": "[encoded data removed]",
            "text/plain": [
              "<Figure size 432x288 with 2 Axes>"
            ]
          },
          "metadata": {
            "tags": [],
            "needs_background": "light"
          }
        }
      ]
    },
    {
      "cell_type": "markdown",
      "metadata": {
        "id": "ZijQwFMQ9itx"
      },
      "source": [
        "## Training the Simple Linear Regression model on the Training set"
      ]
    },
    {
      "cell_type": "code",
      "metadata": {
        "colab": {
          "base_uri": "https://localhost:8080/"
        },
        "id": "JWYZmIlAD7Ys",
        "outputId": "61befdfa-f754-4fd1-cfe2-91d84909242a"
      },
      "source": [
        "#importing the linear regression module from sklearn libary\n",
        "from sklearn.linear_model import LinearRegression\n",
        "\n",
        "#getting the linear regression model function for our regressor\n",
        "regressor = LinearRegression()\n",
        "\n",
        "#training the model using linear regression on training set\n",
        "regressor.fit(X_train, y_train)"
      ],
      "execution_count": null,
      "outputs": [
        {
          "output_type": "execute_result",
          "data": {
            "text/plain": [
              "LinearRegression(copy_X=True, fit_intercept=True, n_jobs=None, normalize=False)"
            ]
          },
          "metadata": {
            "tags": []
          },
          "execution_count": 15
        }
      ]
    },
    {
      "cell_type": "markdown",
      "metadata": {
        "id": "wa2T1Lq89o5H"
      },
      "source": [
        "## Predicting the Diesel Prices on the Test set"
      ]
    },
    {
      "cell_type": "code",
      "metadata": {
        "id": "XZ-mBDXBF3SG",
        "colab": {
          "base_uri": "https://localhost:8080/"
        },
        "outputId": "9923f969-f1f1-4576-e6a3-97595d84a253"
      },
      "source": [
        "#predicting the values(diesel prices) on our test dataset \n",
        "#using the multiple linear regression model\n",
        "y_pred = regressor.predict(X_test)\n",
        "\n",
        "#set the precision upto 2 decimal places\n",
        "np.set_printoptions(precision = 2)\n",
        "\n",
        "#Print the predicted values and actual values of the test dataset\n",
        "print(np.concatenate((y_pred.reshape(len(y_pred), 1), y_test.reshape(len(y_test),1)), 1))"
      ],
      "execution_count": null,
      "outputs": [
        {
          "output_type": "stream",
          "text": [
            "[[28.25 30.76]\n",
            " [47.73 48.16]\n",
            " [53.56 59.02]\n",
            " ...\n",
            " [52.69 50.84]\n",
            " [38.52 41.12]\n",
            " [39.22 34.8 ]]\n"
          ],
          "name": "stdout"
        }
      ]
    },
    {
      "cell_type": "markdown",
      "metadata": {
        "id": "0FoxqNaZ6V5G"
      },
      "source": [
        "##Printing the Coefficients of Multilinear Model"
      ]
    },
    {
      "cell_type": "code",
      "metadata": {
        "colab": {
          "base_uri": "https://localhost:8080/"
        },
        "id": "jY0yY4M8ZkWW",
        "outputId": "b4bfaf09-12d7-47ec-eedb-987a0dc14b20"
      },
      "source": [
        "#Printing the coefficients related with our model\n",
        "print('Coefficients: \\n', regressor.coef_)"
      ],
      "execution_count": null,
      "outputs": [
        {
          "output_type": "stream",
          "text": [
            "Coefficients: \n",
            " [[1.09 0.18]]\n"
          ],
          "name": "stdout"
        }
      ]
    },
    {
      "cell_type": "code",
      "metadata": {
        "colab": {
          "base_uri": "https://localhost:8080/"
        },
        "id": "6QDlUghK0bmY",
        "outputId": "809aa21d-da5d-472a-80d2-bc43396424ab"
      },
      "source": [
        "#Printing the intercept of the model\n",
        "print('Intercepts : \\n', regressor.intercept_)"
      ],
      "execution_count": null,
      "outputs": [
        {
          "output_type": "stream",
          "text": [
            "Intercepts : \n",
            " [-29.9]\n"
          ],
          "name": "stdout"
        }
      ]
    },
    {
      "cell_type": "markdown",
      "metadata": {
        "id": "HHU_2OTau8j-"
      },
      "source": [
        "## Relationship between dependent and independent variables\n",
        "Diesel Prices = 1.09 x (Forex Rate) + 0.18 x (Crude Oil Price) - 29.9"
      ]
    },
    {
      "cell_type": "code",
      "metadata": {
        "colab": {
          "base_uri": "https://localhost:8080/"
        },
        "id": "9bA1PoxIZvZf",
        "outputId": "d5f7b8f6-cc44-4c99-a6a2-c75c1ce086f3"
      },
      "source": [
        "#Print the variance score of our model\n",
        "print('Variance score: %.2f' % regressor.score(X_test, y_test))"
      ],
      "execution_count": null,
      "outputs": [
        {
          "output_type": "stream",
          "text": [
            "Variance score: 0.90\n"
          ],
          "name": "stdout"
        }
      ]
    },
    {
      "cell_type": "code",
      "metadata": {
        "colab": {
          "base_uri": "https://localhost:8080/"
        },
        "id": "ONpVstEGZmWC",
        "outputId": "1d52781f-00da-40cd-d52f-b7bf84896ee8"
      },
      "source": [
        "#Print the Mean Squared Error of our Model\n",
        "print(\"Mean squared error: %.2f\" % np.mean((regressor.predict(X_test) - y_test) ** 2))"
      ],
      "execution_count": null,
      "outputs": [
        {
          "output_type": "stream",
          "text": [
            "Mean squared error: 13.14\n"
          ],
          "name": "stdout"
        }
      ]
    },
    {
      "cell_type": "markdown",
      "metadata": {
        "id": "R36_v3Ouy4OD"
      },
      "source": [
        "## **Finding the Individual Relationship of Diesel Price on Crude Oil and Forex Rate**"
      ]
    },
    {
      "cell_type": "markdown",
      "metadata": {
        "id": "_PvQZnhlzE6p"
      },
      "source": [
        "## Relationship between Diesel Price and Forex Rate"
      ]
    },
    {
      "cell_type": "code",
      "metadata": {
        "colab": {
          "base_uri": "https://localhost:8080/"
        },
        "id": "SfvMmmSrslXq",
        "outputId": "e8e9f916-faa0-4a9d-dc2e-6d5e059a506f"
      },
      "source": [
        "# Training the new model by considering only Forex Rate as independent variable \n",
        "# and Diesel as dependent variable\n",
        "Forex_train = X_train[:, 0:1]\n",
        "regressor.fit(Forex_train, y_train)"
      ],
      "execution_count": null,
      "outputs": [
        {
          "output_type": "execute_result",
          "data": {
            "text/plain": [
              "LinearRegression(copy_X=True, fit_intercept=True, n_jobs=None, normalize=False)"
            ]
          },
          "metadata": {
            "tags": []
          },
          "execution_count": 21
        }
      ]
    },
    {
      "cell_type": "code",
      "metadata": {
        "colab": {
          "base_uri": "https://localhost:8080/"
        },
        "id": "cE3CVmnbuaSr",
        "outputId": "8b0f9f51-d5e9-4787-bad9-cb6d86fcbff6"
      },
      "source": [
        "#Plot of Diesel Price w.r.t Forex Rate\n",
        "plt.scatter(Forex_train, y_train, color = 'orange')\n",
        "plt.plot(Forex_train, regressor.predict(Forex_train), color = 'blue')\n",
        "plt.title('Diesel Price w.r.t Forex Rate')\n",
        "plt.xlabel('Forex Rate')\n",
        "plt.ylabel('Diesel Prices')\n",
        "plt.show()"
      ],
      "execution_count": null,
      "outputs": [
        {
          "output_type": "display_data",
          "data": {
            "image/png": "[encoded data removed]",
            "text/plain": [
              "<Figure size 432x288 with 1 Axes>"
            ]
          },
          "metadata": {
            "tags": [],
            "needs_background": "light"
          }
        }
      ]
    },
    {
      "cell_type": "markdown",
      "metadata": {
        "id": "B3CKQZopz3QH"
      },
      "source": [
        "## Relationship between Diesel Price and Crude Oil Price\n"
      ]
    },
    {
      "cell_type": "code",
      "metadata": {
        "colab": {
          "base_uri": "https://localhost:8080/"
        },
        "id": "jVv2kOZKSd1S",
        "outputId": "9e898d29-14eb-4486-fa91-c5e23f79eb4e"
      },
      "source": [
        "# Training the new model by considering only Crude Oil as independent variable \n",
        "# and Diesel as dependent variable\n",
        "Crude_train = X_train[:, 1:]\n",
        "regressor.fit(Crude_train, y_train)"
      ],
      "execution_count": null,
      "outputs": [
        {
          "output_type": "execute_result",
          "data": {
            "text/plain": [
              "LinearRegression(copy_X=True, fit_intercept=True, n_jobs=None, normalize=False)"
            ]
          },
          "metadata": {
            "tags": []
          },
          "execution_count": 23
        }
      ]
    },
    {
      "cell_type": "code",
      "metadata": {
        "colab": {
          "base_uri": "https://localhost:8080/"
        },
        "id": "N_f-OLjLTPz-",
        "outputId": "b5c6cf45-9585-47bc-e3bc-0e920d3b063d"
      },
      "source": [
        "#Plot of Diesel Price w.r.t Forex Rate\n",
        "plt.scatter(Crude_train, y_train, color = 'red')\n",
        "plt.plot(Crude_train, regressor.predict(Crude_train), color = 'blue')\n",
        "plt.title('Diesel Price w.r.t Crude Oil Price')\n",
        "plt.xlabel('Crude Oil Price')\n",
        "plt.ylabel('Diesel Prices')\n",
        "plt.show()"
      ],
      "execution_count": null,
      "outputs": [
        {
          "output_type": "display_data",
          "data": {
            "image/png": "[encoded data removed]",
            "text/plain": [
              "<Figure size 432x288 with 1 Axes>"
            ]
          },
          "metadata": {
            "tags": [],
            "needs_background": "light"
          }
        }
      ]
    },
    {
      "cell_type": "markdown",
      "metadata": {
        "id": "dv7rWcZoyKQy"
      },
      "source": [
        "## Visualising Our Multiple Linear Regression Model using 3D Plot"
      ]
    },
    {
      "cell_type": "code",
      "metadata": {
        "id": "OahsH-EATbYc",
        "colab": {
          "base_uri": "https://localhost:8080/"
        },
        "outputId": "63135a14-760d-40d1-afb7-aed0f18f739e"
      },
      "source": [
        "fig = plt.figure()\n",
        "ax = fig.add_subplot(111, projection = '3d')\n",
        "ax.scatter(X_test[:, 0], X_test[:, 1], y_test, c = 'r', marker = 'o')\n",
        "ax.scatter(X_test[:, 0], X_test[:, 1], y_pred, c = 'g', marker = 'o')\n",
        "ax.set_xlabel('FOREX')\n",
        "ax.set_ylabel('CRD')\n",
        "ax.set_zlabel('Diesel')\n",
        "plt.draw()"
      ],
      "execution_count": null,
      "outputs": [
        {
          "output_type": "display_data",
          "data": {
            "image/png": "[encoded data removed]",
            "text/plain": [
              "<Figure size 432x288 with 1 Axes>"
            ]
          },
          "metadata": {
            "tags": [],
            "needs_background": "light"
          }
        }
      ]
    },
    {
      "cell_type": "markdown",
      "metadata": {
        "id": "WZ0SeZilxVe6"
      },
      "source": [
        "## Regression Metrics for Model Peformance"
      ]
    },
    {
      "cell_type": "code",
      "metadata": {
        "colab": {
          "base_uri": "https://localhost:8080/"
        },
        "id": "N44YeNG4zyVI",
        "outputId": "ec8aca24-c8aa-4573-9d5e-b668078ef769"
      },
      "source": [
        "#printing the maximum predicted diesel price on test set\n",
        "print(max(y_pred))\n",
        "\n",
        "#printing the maximum actual diesel price on test set\n",
        "print(max(y_test))"
      ],
      "execution_count": null,
      "outputs": [
        {
          "output_type": "stream",
          "text": [
            "[60.9]\n",
            "[59.02]\n"
          ],
          "name": "stdout"
        }
      ]
    },
    {
      "cell_type": "code",
      "metadata": {
        "colab": {
          "base_uri": "https://localhost:8080/"
        },
        "id": "boJNhFTF4l1-",
        "outputId": "330e8528-d0ff-404c-e51f-b012a1de0e8b"
      },
      "source": [
        "#Printing the Mean Absolute Error using sklearn library\n",
        "from sklearn.metrics import mean_absolute_error\n",
        "print(\"Mean Absolute Error : \", mean_absolute_error(y_test, y_pred))"
      ],
      "execution_count": null,
      "outputs": [
        {
          "output_type": "stream",
          "text": [
            "Mean Absolute Error :  2.9960182186261273\n"
          ],
          "name": "stdout"
        }
      ]
    },
    {
      "cell_type": "code",
      "metadata": {
        "colab": {
          "base_uri": "https://localhost:8080/"
        },
        "id": "xFYI7gSI5PvS",
        "outputId": "b020db65-6722-47d8-eeae-2f10cff834e5"
      },
      "source": [
        "#Printing the Mean Squared Error using sklearn library\n",
        "from sklearn.metrics import mean_squared_error\n",
        "print(\"Mean Squared Error : \", mean_squared_error(y_test, y_pred))"
      ],
      "execution_count": null,
      "outputs": [
        {
          "output_type": "stream",
          "text": [
            "Mean Squared Error :  13.142888688530956\n"
          ],
          "name": "stdout"
        }
      ]
    },
    {
      "cell_type": "code",
      "metadata": {
        "colab": {
          "base_uri": "https://localhost:8080/"
        },
        "id": "4A_LFMOU6R-N",
        "outputId": "e9cacde5-a0b5-45a3-97d8-df63b88c4a1f"
      },
      "source": [
        "#Printing the Root Mean Squared Error using sklearn library\n",
        "from sklearn.metrics import mean_squared_error\n",
        "print(\"Root Mean Squared Error : \", mean_squared_error(y_test, y_pred, squared = False))"
      ],
      "execution_count": null,
      "outputs": [
        {
          "output_type": "stream",
          "text": [
            "Root Mean Squared Error :  3.625312219455168\n"
          ],
          "name": "stdout"
        }
      ]
    },
    {
      "cell_type": "code",
      "metadata": {
        "colab": {
          "base_uri": "https://localhost:8080/"
        },
        "id": "GH1nimwd74lP",
        "outputId": "5e5fa040-54de-4d72-c6f2-0a2e7aa834e8"
      },
      "source": [
        "#Printing the R2 value using sklearn library\n",
        "from sklearn.metrics import r2_score\n",
        "print (\"R2 Score value: {:.4f}\".format(r2_score(y_test, y_pred)))"
      ],
      "execution_count": null,
      "outputs": [
        {
          "output_type": "stream",
          "text": [
            "R2 Score value: 0.8974\n"
          ],
          "name": "stdout"
        }
      ]
    },
    {
      "cell_type": "code",
      "metadata": {
        "id": "fJd1pjAFZvMz"
      },
      "source": [
        ""
      ],
      "execution_count": null,
      "outputs": []
    }
  ]
}